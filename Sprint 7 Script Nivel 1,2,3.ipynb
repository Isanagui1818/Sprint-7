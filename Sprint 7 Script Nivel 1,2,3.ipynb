{
 "cells": [
  {
   "cell_type": "markdown",
   "metadata": {},
   "source": [
    "# Nivel 1"
   ]
  },
  {
   "cell_type": "markdown",
   "metadata": {},
   "source": [
    "- Exercici 1 Calculadora de l'índex de massa corporal\n",
    "\n",
    "    Escriu una funció que calculi l'IMC ingressat per l'usuari/ària, és a dir, qui ho executi haurà d'ingressar aquestes dades. Pots obtenir més informació del seu càlcul en:\n",
    "\n",
    "    -> Índice de masa corporal IMC que es y como se calcula.\n",
    "    La funció ha de classificar el resultat en les seves respectives categories"
   ]
  },
  {
   "cell_type": "code",
   "execution_count": 1,
   "metadata": {},
   "outputs": [
    {
     "name": "stdout",
     "output_type": "stream",
     "text": [
      "Tu IMC está en: 21.5. Peso normal. Pero recuerda que este índice tiene algunas limitaciones.\n"
     ]
    }
   ],
   "source": [
    "def calculo_IMC():\n",
    "    try:\n",
    "        # Introducción de datos:\n",
    "        altura=input(\"Introduce tu altura en centímetros:\")\n",
    "        altura=altura.replace(',','.')\n",
    "        \n",
    "        # Conversion de datos a float:\n",
    "        try:\n",
    "            altura=float(altura)\n",
    "        except ValueError:\n",
    "            raise ValueError(\"Introduce valores númericos.\")\n",
    "\n",
    "        peso=input(\"Introduce tu peso en kg:\")\n",
    "        peso=peso.replace(',','.')\n",
    "        \n",
    "        # Conversion de datos a float:\n",
    "        try:       \n",
    "            peso=float(peso)\n",
    "        except ValueError:\n",
    "            raise ValueError(\"Introduce valores númericos.\")\n",
    "\n",
    "    # Verificación de datos plausibles:\n",
    "        # Valor de control por si introducen los datos en metros:\n",
    "        if altura < 3:\n",
    "            raise ValueError(\"La altura es demasiado baja. Por favor, introduce la altura real en cm.\")\n",
    "        \n",
    "        # Valores de control, de record guiness: \n",
    "        if altura < 62.8:\n",
    "            raise ValueError(\"La altura es demasiado baja. Por favor, introduce la altura real en cm.\")\n",
    "        if altura > 280:\n",
    "            raise ValueError(\"La altura es demasiado alta. Por favor, introduce la altura real en cm.\")\n",
    "\n",
    "        # Valores de control, de record guiness: \n",
    "        if peso < 5.4:\n",
    "            raise ValueError(\"El peso es demasiado bajo. Por favor, introduce el peso real en kg.\")\n",
    "        if peso > 640:\n",
    "            raise ValueError(\"El peso es demasiado alto. Por favor, introduce el peso real en kg.\")\n",
    "    \n",
    "    except ValueError as e:\n",
    "        print(e)\n",
    "        return\n",
    "        \n",
    "    # Cálculo del IMC:    \n",
    "    IMC = peso/(altura/100)**2\n",
    "\n",
    "   # Rangos del IMC:\n",
    "    if IMC <= 18.5:\n",
    "        a=(\"Bajo peso\")\n",
    "    elif IMC > 18.5 and IMC <= 24.9:\n",
    "        a=(\"Peso normal\")\n",
    "    elif IMC >= 25 and IMC <= 29.9:\n",
    "        a=(\"Sobre peso\")\n",
    "    else:\n",
    "        a=(\"Obesidad\")\n",
    "\n",
    "    print(f'Tu IMC está en: {round(IMC,2)}. {a}. Pero recuerda que este índice tiene algunas limitaciones.')\n",
    "\n",
    "# Ejecutar función\n",
    "calculo_IMC() "
   ]
  },
  {
   "cell_type": "markdown",
   "metadata": {},
   "source": [
    "- Exercici 2 Convertidor de temperatures.\n",
    "\n",
    "Existeixen diverses unitats de temperatura utilitzades en diferents contextos i regions. Les més comunes són Celsius (°C), Fahrenheit (°F) i Kelvin (K). També existeixen altres unitats com Rankine (°Ra) i Réaumur (°Re). Selecciona almenys 2 conversors, de tal manera que en introduir una temperatura retorni, com a mínim, dues conversions.\n",
    "\n"
   ]
  },
  {
   "cell_type": "code",
   "execution_count": 3,
   "metadata": {},
   "outputs": [
    {
     "name": "stdout",
     "output_type": "stream",
     "text": [
      "Escribe la temperatura de forma númerica.\n"
     ]
    }
   ],
   "source": [
    "try:    \n",
    "    # Introducción de datos:\n",
    "    c=(input(\"Introduce la temperatura en grados Celsius.\")) \n",
    "    c=c.replace(',','.')\n",
    "    \n",
    "    # Conversión a float:\n",
    "    c=float(c)\n",
    "    \n",
    "    # Conversión de medida:\n",
    "    f=9/5*c+32\n",
    "    k=c+273.15\n",
    "\n",
    "    print(f'{c} grados Celsius son {f} grados Fahrenheit y {round(k,2)} grados Kelvin.')   \n",
    "except ValueError:\n",
    "    print(\"Escribe la temperatura de forma númerica.\")"
   ]
  },
  {
   "cell_type": "markdown",
   "metadata": {},
   "source": [
    "- Exercici 3 Comptador de paraules d'un text.\n",
    "\n",
    "Escriu una funció que donat un text, mostri les vegades que apareix cada paraula."
   ]
  },
  {
   "cell_type": "code",
   "execution_count": 2,
   "metadata": {},
   "outputs": [
    {
     "name": "stdout",
     "output_type": "stream",
     "text": [
      "La palabra: hola, aparece: 1 veces.\n",
      "La palabra: hola aparece: 2 veces.\n",
      "La palabra: adios aparece: 1 veces.\n",
      "El texto tiene un total de: 4 palabras.\n"
     ]
    }
   ],
   "source": [
    "def contador_de_palabras():\n",
    "    # Introducción del texto: \n",
    "    texto=str(input(\"Introduce tu texto aquí:\")) \n",
    "\n",
    "    # Convertir texto en una lista:\n",
    "    lista_texto=texto.split(sep=None, maxsplit=-1)\n",
    "\n",
    "    # Contar tamaño del texto:\n",
    "    tamaño_texto=len(lista_texto)\n",
    "\n",
    "    # Crear diccionario vacio para contar palabras repetidas:\n",
    "    contar_palabras={}\n",
    "\n",
    "    # Bucle para introducir palabras en el diccionario vacio:\n",
    "    for palabra in lista_texto:\n",
    "        if palabra in contar_palabras:\n",
    "            contar_palabras[palabra] +=1\n",
    "        else:\n",
    "            contar_palabras[palabra]=1\n",
    "\n",
    "    # Bucle para contar palabras y palabras repetidas:\n",
    "    for palabra, conteo in contar_palabras.items():\n",
    "        print(f'La palabra: {palabra} aparece: {conteo} veces.')\n",
    "\n",
    "    print(f'El texto tiene un total de: {tamaño_texto} palabras.')\n",
    "\n",
    "contador_de_palabras()"
   ]
  },
  {
   "cell_type": "code",
   "execution_count": null,
   "metadata": {},
   "outputs": [
    {
     "name": "stdout",
     "output_type": "stream",
     "text": [
      "En el texto la palabra:casa aparece 4 veces\n",
      "En el texto la palabra:novia aparece 1 veces\n",
      "En el texto la palabra:amigo aparece 2 veces\n"
     ]
    }
   ],
   "source": [
    "\n",
    "# Importar paquete para contar palabras\n",
    "from collections import Counter\n",
    "\n",
    "# Crear función para contar palabras\n",
    "def contar_palabras(texto):\n",
    "    # Dividir el texto en elementos de una lista:\n",
    "    texto=texto.split() \n",
    "\n",
    "    # Crear variable con la función contar:\n",
    "    contar_palabras =  Counter(texto)\n",
    "\n",
    "    # Bucle para contar palabras y palabras repetidas: \n",
    "    for palabra, contar in contar_palabras.items():\n",
    "        print(f'En el texto la palabra:{palabra} aparece {contar} veces')\n",
    "\n",
    "# Introduce el texto:\n",
    "texto=input('Introduce tu texto:')\n",
    "\n",
    "# Ejecutar la función\n",
    "contar_palabras(texto)"
   ]
  },
  {
   "cell_type": "markdown",
   "metadata": {},
   "source": [
    "- Exercici 4 Diccionari invers. Resulta que el client té una enquesta molt antiga que s'emmagatzema en un diccionari i els resultats els necessita al revés, és a dir, intercanviats les claus i els valors. Els valors i claus en el diccionari original són únics; si aquest no és el cas, la funció hauria d'imprimir un missatge d'advertiment."
   ]
  },
  {
   "cell_type": "code",
   "execution_count": null,
   "metadata": {},
   "outputs": [
    {
     "name": "stdout",
     "output_type": "stream",
     "text": [
      "{1: 'a', 2: 'b', 3: 'c'}\n"
     ]
    }
   ],
   "source": [
    "def reverse_dictionary():\n",
    "    # Diccionarios:\n",
    "    reverse_dictionary = {'a': 1, 'b': 2, 'c': 3}\n",
    "    reverse_dictionary1 = {}\n",
    "\n",
    "    # Bucle para recorrer todos los items del diccionario:\n",
    "    for x,y in reverse_dictionary.items():\n",
    "  \n",
    "        # Invertir datos del diccionario:\n",
    "        reverse_dictionary1[y]=x\n",
    "\n",
    "    # Imprimir diccionario:\n",
    "    print(reverse_dictionary1)\n",
    "    \n",
    "# Ejecutar función\n",
    "reverse_dictionary()"
   ]
  },
  {
   "cell_type": "code",
   "execution_count": null,
   "metadata": {},
   "outputs": [
    {
     "name": "stdout",
     "output_type": "stream",
     "text": [
      "{1: 'a', 2: 'b', 3: 'c'}\n"
     ]
    }
   ],
   "source": [
    "def reverse_dictionary():\n",
    "    reverse_dictionary={'a':1,'b':2,'c':3}\n",
    "\n",
    "    # Invertir diccionario con función nativa de python:\n",
    "    diccionario= dict(zip(reverse_dictionary.values(), reverse_dictionary.keys()))\n",
    "        \n",
    "    # Imprimir diccionario nuevo:\n",
    "    print(diccionario)\n",
    "    \n",
    "# Ejecutar función\n",
    "reverse_dictionary()"
   ]
  },
  {
   "cell_type": "code",
   "execution_count": null,
   "metadata": {},
   "outputs": [
    {
     "name": "stdout",
     "output_type": "stream",
     "text": [
      "Error multiple keys for one value\n"
     ]
    }
   ],
   "source": [
    "def reverse_dictionary():\n",
    "    # Diccionarios:\n",
    "    reverse_dictionary={'x':'apple','y':'banana','z':'banana'}\n",
    "    reverse_dictionary1={}\n",
    "\n",
    "    try:\n",
    "        # Bucle para recorrer todos los items del diccionario:\n",
    "        for x,y in reverse_dictionary.items():\n",
    "\n",
    "            # Condicion que examina los datos de uno y otro diccionario:\n",
    "            if y in reverse_dictionary1: #si y ya se esta usando y no esta en el otro diccionario provocará una perdida de datos y por eso salta el error\n",
    "                raise ValueError(\"Error multiple keys for one value\")\n",
    "\n",
    "            # Invertir datos del diccionario:\n",
    "            reverse_dictionary1[y]=x\n",
    "        print(reverse_dictionary1)\n",
    "    except ValueError as e:\n",
    "        print(e)\n",
    "\n",
    "# Ejecutar función\n",
    "reverse_dictionary()\n",
    "        "
   ]
  },
  {
   "cell_type": "markdown",
   "metadata": {},
   "source": [
    "# Nivel 2"
   ]
  },
  {
   "cell_type": "markdown",
   "metadata": {},
   "source": [
    "- Exercici 1 Diccionari invers amb duplicats. Continuant amb l'exercici 4 del nivell 1: al client es va oblidar de comentar un detall i resulta que els valors en el diccionari original poden duplicar-se i més, per la qual cosa les claus intercanviades poden tenir duplicats. En aquest cas, en l'exercici anterior imprimies un missatge d'advertiment, ara, els valors del diccionari resultant hauran d'emmagatzemar-se com una llista. Tingues en compte que si és un valor únic no ha de ser una llista."
   ]
  },
  {
   "cell_type": "code",
   "execution_count": 5,
   "metadata": {},
   "outputs": [
    {
     "name": "stdout",
     "output_type": "stream",
     "text": [
      "{'apple': 'x', 'banana': ['y', 'z']}\n"
     ]
    }
   ],
   "source": [
    "reverse_dictionary_plus= {'x':'apple','y':'banana','z':'banana'}\n",
    "diccionario_plus={}\n",
    "lista_plus=[]\n",
    "\n",
    "for key, value in reverse_dictionary_plus.items():\n",
    "    # Condicion que examina los datos de uno y otro diccionario:\n",
    "    if value in diccionario_plus:\n",
    "        if value not in lista_plus: \n",
    "                lista_plus.append(value)\n",
    "        if not isinstance(diccionario_plus[value], list):\n",
    "            diccionario_plus[value]=[diccionario_plus[value],key]\n",
    "        else:\n",
    "                diccionario_plus[value].append(key) # Invertir datos del diccionario:\n",
    "    else:\n",
    "        diccionario_plus[value]=key\n",
    "    \n",
    "print(diccionario_plus)"
   ]
  },
  {
   "cell_type": "markdown",
   "metadata": {},
   "source": [
    "- Exercici 2 Conversió de tipus de dades. El client rep una llista de dades i necessita generar dues llistes, la primera on estaran tots els elements que es van poder convertir en flotants i l'altra on estan els elements que no es van poder convertir. Exemple de la llista que rep el client: [ '1.3', 'one' , '1e10' , 'seven', '3-1/2', ('2',1,1.4,'not-a-number'), [1,2,'3','3.4']]"
   ]
  },
  {
   "cell_type": "code",
   "execution_count": 6,
   "metadata": {},
   "outputs": [
    {
     "name": "stdout",
     "output_type": "stream",
     "text": [
      "Elementos convertibles a float: [1.3, 10000000000.0, 2.0, 1.0, 1.4, 1.0, 2.0, 3.0, 3.4]\n",
      "Elementos no convertibles a float: ['one', 'seven', '3-1/2', 'not a number']\n"
     ]
    }
   ],
   "source": [
    "def separar_datos(conversion):\n",
    "    convertibles=[]\n",
    "    no_convertibles=[]    \n",
    "    \n",
    "    for elemento in conversion:\n",
    "        # si el elemento es una tupla o una lista lo operamos internamente \n",
    "        if isinstance(elemento,(list,tuple)):\n",
    "            for subelemento in elemento:\n",
    "                try:\n",
    "                    convertibles.append(float(subelemento))\n",
    "                except (ValueError, TypeError):\n",
    "                    no_convertibles.append(subelemento)\n",
    "        else:\n",
    "            try:\n",
    "                convertibles.append(float(elemento))\n",
    "            except (ValueError, TypeError):\n",
    "                no_convertibles.append(elemento)\n",
    "    return convertibles, no_convertibles\n",
    "\n",
    "conversion=['1.3','one','1e10','seven','3-1/2',('2',1,1.4,'not a number'),[1,2,'3','3.4']]\n",
    "convertibles, no_convertibles = separar_datos(conversion)\n",
    "\n",
    "print(\"Elementos convertibles a float:\", convertibles)\n",
    "print(\"Elementos no convertibles a float:\", no_convertibles)"
   ]
  },
  {
   "cell_type": "markdown",
   "metadata": {},
   "source": [
    "# Nivel 3"
   ]
  },
  {
   "cell_type": "markdown",
   "metadata": {},
   "source": [
    "- Exercici 1 Comptador i endreçador de paraules d'un text. El client va quedar content amb el comptador de paraules, però ara vol llegir arxius TXT i que calculi la freqüència de cada paraula ordenades dins de les entrades habituals del diccionari segons la lletra amb la qual comencen, és a dir, les claus han d'anar de la A a la Z i dins de la A hem d'anar de la A la Z. Per exemple, per a l'arxiu \"tu_me_quieres_blanca.txt\" la sortida esperada seria:"
   ]
  },
  {
   "cell_type": "code",
   "execution_count": null,
   "metadata": {},
   "outputs": [
    {
     "name": "stdout",
     "output_type": "stream",
     "text": [
      "{'a': {'alba': 4, 'azucena': 1, 'a': 3, 'al': 2, 'alimenta': 1, 'amarga': 1, 'agua': 1, 'alma': 1, 'alcobas': 1}, 'b': {'blanca': 3, 'banquete': 1, 'baco': 1, 'bosques': 1, 'boca': 1, 'bebe': 1, 'buen': 1}, 'c': {'casta': 3, 'corola': 1, 'cerrada': 1, 'copas': 1, 'cubierto': 1, 'carnes': 2, 'corriste': 1, 'conservas': 1, 'cuáles': 1, 'cabañas': 1, 'con': 4, 'cuerpo': 1, 'cuando': 2}, 'd': {'de': 8, 'diga': 1, 'dejaste': 1, 'del': 1, 'dios': 2, 'duerme': 1}, 'e': {'espumas': 1, 'en': 4, 'el': 4, 'engaño': 1, 'estrago': 1, 'esqueleto': 1, 'escarcha': 1, 'ellas': 1, 'enredada': 1, 'entonces': 1}, 'f': {'filtrado': 1, 'frutos': 1, 'festejando': 1}, 'h': {'haya': 1, 'hermana': 1, 'hubiste': 1, 'huye': 1, 'hacia': 1, 'habla': 1, 'hayas': 1, 'hombre': 1}, 'i': {'intacto': 1}, 'j': {'jardines': 1}, 'l': {'luna': 1, 'las': 7, 'los': 4, 'labios': 1, 'lo': 2, 'la': 3, 'límpiate': 1, 'lévate': 1}, 'm': {'me': 10, 'margarita': 1, 'mi': 1, 'mano': 1, 'mieles': 1, 'morados': 1, 'milagros': 1, 'montaña': 1, 'manos': 1, 'mojada': 1}, 'n': {'nácar': 1, 'ni': 2, 'nívea': 2, 'negros': 1, 'no': 1}, 'p': {'perfume': 1, 'pámpanos': 1, 'por': 2, 'pretendes': 3, 'perdone': 2, 'pájaros': 1, 'puesto': 1, 'preténdeme': 3}, 'q': {'quieres': 6, 'que': 6, 'quedó': 1}, 'r': {'rayo': 1, 'rojo': 1, 'raíz': 1, 'rocas': 1, 'renueva': 1}, 's': {'sea': 1, 'sobre': 2, 'se': 2, 'sé': 1, 'salitre': 1, 'sean': 1}, 't': {'tú': 8, 'todas': 2, 'tenue': 1, 'todavía': 1, 'te': 3, 'toca': 1, 'tierra': 1, 'tejidos': 1, 'tornadas': 1}, 'u': {'un': 1, 'una': 1}, 'v': {'vestido': 1, 'vete': 1, 'vive': 1}, 'y': {'y': 5}}\n",
      "Cantidad de palabras del texto: 202\n"
     ]
    }
   ],
   "source": [
    "import re \n",
    "\n",
    "# leer el documento de texto\n",
    "texto = open(\"tu_me_quieres_blanca.txt\",\"r\",encoding=\"utf-8\") #el encoding ayuda a que las palabras con acento no se vean mal\n",
    "contenido=texto.read()\n",
    "\n",
    "# depurar el texto, quitar signos de puntiuación y ponerlo todo en minúsculas\n",
    "contenido=re.sub(r'[^\\w\\s]', '', contenido).lower()\n",
    "contenido_lista=contenido.split() #separarlo todo por palabras en una lista\n",
    "\n",
    "# crear diccionarios vacios para almacenar los datos\n",
    "diccionario={}\n",
    "diccionario_claves={}\n",
    "\n",
    "# bucle for para que añada cada palabra de la lista al primer diccionario\n",
    "for palabra in contenido_lista:\n",
    "    if palabra in diccionario:\n",
    "        diccionario[palabra]+=1\n",
    "    else:\n",
    "        diccionario[palabra]=1\n",
    "\n",
    "# Bucle para recorrer todos los items del diccionario original\n",
    "for palabra, conteo in diccionario.items():\n",
    "    inicial = palabra[0]  # Obtiene la primera letra en minúscula\n",
    "    if inicial not in diccionario_claves:\n",
    "        diccionario_claves[inicial] = {}\n",
    "    diccionario_claves[inicial][palabra]= conteo\n",
    "\n",
    "# orden alfabetico diccionario\n",
    "diccionario_claves_abc= dict(sorted(diccionario_claves.items()))\n",
    "\n",
    "# Imprimir el diccionario clasificado\n",
    "print(diccionario_claves_abc)\n",
    "\n",
    "print(f'Cantidad de palabras del texto: {len(contenido_lista)}')"
   ]
  },
  {
   "cell_type": "code",
   "execution_count": 7,
   "metadata": {},
   "outputs": [
    {
     "data": {
      "text/plain": [
       "{'a': {'alba': 4,\n",
       "  'azucena': 1,\n",
       "  'a': 3,\n",
       "  'al': 2,\n",
       "  'alimenta': 1,\n",
       "  'amarga': 1,\n",
       "  'agua': 1,\n",
       "  'alma': 1,\n",
       "  'alcobas': 1},\n",
       " 'b': {'blanca': 3,\n",
       "  'banquete': 1,\n",
       "  'baco': 1,\n",
       "  'bosques': 1,\n",
       "  'boca': 1,\n",
       "  'bebe': 1,\n",
       "  'buen': 1},\n",
       " 'c': {'casta': 3,\n",
       "  'corola': 1,\n",
       "  'cerrada': 1,\n",
       "  'copas': 1,\n",
       "  'cubierto': 1,\n",
       "  'carnes': 2,\n",
       "  'corriste': 1,\n",
       "  'conservas': 1,\n",
       "  'cuáles': 1,\n",
       "  'cabañas': 1,\n",
       "  'con': 4,\n",
       "  'cuerpo': 1,\n",
       "  'cuando': 2},\n",
       " 'd': {'de': 8, 'diga': 1, 'dejaste': 1, 'del': 1, 'dios': 2, 'duerme': 1},\n",
       " 'e': {'espumas': 1,\n",
       "  'en': 4,\n",
       "  'el': 4,\n",
       "  'engaño': 1,\n",
       "  'estrago': 1,\n",
       "  'esqueleto': 1,\n",
       "  'escarcha': 1,\n",
       "  'ellas': 1,\n",
       "  'enredada': 1,\n",
       "  'entonces': 1},\n",
       " 'f': {'filtrado': 1, 'frutos': 1, 'festejando': 1},\n",
       " 'h': {'haya': 1,\n",
       "  'hermana': 1,\n",
       "  'hubiste': 1,\n",
       "  'huye': 1,\n",
       "  'hacia': 1,\n",
       "  'habla': 1,\n",
       "  'hayas': 1,\n",
       "  'hombre': 1},\n",
       " 'i': {'intacto': 1},\n",
       " 'j': {'jardines': 1},\n",
       " 'l': {'luna': 1,\n",
       "  'las': 7,\n",
       "  'los': 4,\n",
       "  'labios': 1,\n",
       "  'lo': 2,\n",
       "  'la': 3,\n",
       "  'límpiate': 1,\n",
       "  'lévate': 1},\n",
       " 'm': {'me': 10,\n",
       "  'margarita': 1,\n",
       "  'mi': 1,\n",
       "  'mano': 1,\n",
       "  'mieles': 1,\n",
       "  'morados': 1,\n",
       "  'milagros': 1,\n",
       "  'montaña': 1,\n",
       "  'manos': 1,\n",
       "  'mojada': 1},\n",
       " 'n': {'nácar': 1, 'ni': 2, 'nívea': 2, 'negros': 1, 'no': 1},\n",
       " 'p': {'perfume': 1,\n",
       "  'pámpanos': 1,\n",
       "  'por': 2,\n",
       "  'pretendes': 3,\n",
       "  'perdone': 2,\n",
       "  'pájaros': 1,\n",
       "  'puesto': 1,\n",
       "  'preténdeme': 3},\n",
       " 'q': {'quieres': 6, 'que': 6, 'quedó': 1},\n",
       " 'r': {'rayo': 1, 'rojo': 1, 'raíz': 1, 'rocas': 1, 'renueva': 1},\n",
       " 's': {'sea': 1, 'sobre': 2, 'se': 2, 'sé': 1, 'salitre': 1, 'sean': 1},\n",
       " 't': {'tú': 8,\n",
       "  'todas': 2,\n",
       "  'tenue': 1,\n",
       "  'todavía': 1,\n",
       "  'te': 3,\n",
       "  'toca': 1,\n",
       "  'tierra': 1,\n",
       "  'tejidos': 1,\n",
       "  'tornadas': 1},\n",
       " 'u': {'un': 1, 'una': 1},\n",
       " 'v': {'vestido': 1, 'vete': 1, 'vive': 1},\n",
       " 'y': {'y': 5}}"
      ]
     },
     "execution_count": 7,
     "metadata": {},
     "output_type": "execute_result"
    }
   ],
   "source": [
    "diccionario_claves_abc"
   ]
  }
 ],
 "metadata": {
  "kernelspec": {
   "display_name": "Python 3",
   "language": "python",
   "name": "python3"
  },
  "language_info": {
   "codemirror_mode": {
    "name": "ipython",
    "version": 3
   },
   "file_extension": ".py",
   "mimetype": "text/x-python",
   "name": "python",
   "nbconvert_exporter": "python",
   "pygments_lexer": "ipython3",
   "version": "3.12.6"
  }
 },
 "nbformat": 4,
 "nbformat_minor": 2
}
