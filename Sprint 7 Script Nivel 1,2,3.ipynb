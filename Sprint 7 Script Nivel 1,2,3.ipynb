{
 "cells": [
  {
   "cell_type": "markdown",
   "metadata": {},
   "source": [
    "# Nivel 1"
   ]
  },
  {
   "cell_type": "markdown",
   "metadata": {},
   "source": [
    "- Exercici 1 Calculadora de l'índex de massa corporal\n",
    "\n",
    "    Escriu una funció que calculi l'IMC ingressat per l'usuari/ària, és a dir, qui ho executi haurà d'ingressar aquestes dades. Pots obtenir més informació del seu càlcul en:\n",
    "\n",
    "    -> Índice de masa corporal IMC que es y como se calcula.\n",
    "    La funció ha de classificar el resultat en les seves respectives categories"
   ]
  },
  {
   "cell_type": "code",
   "execution_count": 2,
   "metadata": {},
   "outputs": [
    {
     "name": "stdout",
     "output_type": "stream",
     "text": [
      "Tu IMC está en: 18.75. Peso normal. Pero recuerda que este índice tiene algunas limitaciones.\n"
     ]
    }
   ],
   "source": [
    "def calculo_IMC():\n",
    "    try:\n",
    "        # Introducción de datos:\n",
    "        altura=input(\"Introduce tu altura en centímetros:\")\n",
    "        altura=altura.replace(',','.')\n",
    "        \n",
    "        # Conversion de datos a float:\n",
    "        try:\n",
    "            altura=float(altura)\n",
    "        except ValueError:\n",
    "            raise ValueError(\"Introduce valores númericos.\")\n",
    "\n",
    "        peso=input(\"Introduce tu peso en kg:\")\n",
    "        peso=peso.replace(',','.')\n",
    "        \n",
    "        # Conversion de datos a float:\n",
    "        try:       \n",
    "            peso=float(peso)\n",
    "        except ValueError:\n",
    "            raise ValueError(\"Introduce valores númericos.\")\n",
    "\n",
    "    # Verificación de datos plausibles:\n",
    "        # Valor de control por si introducen los datos en metros:\n",
    "        if altura < 3:\n",
    "            raise ValueError(\"La altura es demasiado baja. Por favor, introduce la altura real en cm.\")\n",
    "        \n",
    "        # Valores de control, de record guiness: \n",
    "        if altura < 62.8:\n",
    "            raise ValueError(\"La altura es demasiado baja. Por favor, introduce la altura real en cm.\")\n",
    "        if altura > 280:\n",
    "            raise ValueError(\"La altura es demasiado alta. Por favor, introduce la altura real en cm.\")\n",
    "\n",
    "        # Valores de control, de record guiness: \n",
    "        if peso < 5.4:\n",
    "            raise ValueError(\"El peso es demasiado bajo. Por favor, introduce el peso real en kg.\")\n",
    "        if peso > 640:\n",
    "            raise ValueError(\"El peso es demasiado alto. Por favor, introduce el peso real en kg.\")\n",
    "    \n",
    "    except ValueError as e:\n",
    "        print(e)\n",
    "        return\n",
    "        \n",
    "    # Cálculo del IMC:    \n",
    "    IMC = peso/(altura/100)**2\n",
    "\n",
    "   # Rangos del IMC:\n",
    "    if IMC <= 18.5:\n",
    "        a=(\"Bajo peso\")\n",
    "    elif IMC > 18.5 and IMC <= 24.9:\n",
    "        a=(\"Peso normal\")\n",
    "    elif IMC >= 25 and IMC <= 29.9:\n",
    "        a=(\"Sobre peso\")\n",
    "    else:\n",
    "        a=(\"Obesidad\")\n",
    "\n",
    "    print(f'Tu IMC está en: {round(IMC,2)}. {a}. Pero recuerda que este índice tiene algunas limitaciones.')\n",
    "\n",
    "# Ejecutar función\n",
    "calculo_IMC() "
   ]
  },
  {
   "cell_type": "markdown",
   "metadata": {},
   "source": [
    "- Exercici 2 Convertidor de temperatures.\n",
    "\n",
    "Existeixen diverses unitats de temperatura utilitzades en diferents contextos i regions. Les més comunes són Celsius (°C), Fahrenheit (°F) i Kelvin (K). També existeixen altres unitats com Rankine (°Ra) i Réaumur (°Re). Selecciona almenys 2 conversors, de tal manera que en introduir una temperatura retorni, com a mínim, dues conversions.\n",
    "\n"
   ]
  },
  {
   "cell_type": "code",
   "execution_count": null,
   "metadata": {},
   "outputs": [
    {
     "name": "stdout",
     "output_type": "stream",
     "text": [
      "1.0 grados Celsius son 33.8 grados Fahrenheit y 274.15 grados Kelvin.\n"
     ]
    }
   ],
   "source": [
    "try:    \n",
    "    # Introducción de datos:\n",
    "    c=(input(\"Introduce la temperatura en grados Celsius.\")) \n",
    "    c=c.replace(',','.')\n",
    "    \n",
    "    # Conversión a float:\n",
    "    c=float(c)\n",
    "    \n",
    "    # Conversión de medida:\n",
    "    f=9/5*c+32\n",
    "    k=c+273.15\n",
    "\n",
    "    print(f'{c} grados Celsius son {f} grados Fahrenheit y {round(k,2)} grados Kelvin.')   \n",
    "except ValueError:\n",
    "    print(\"Escribe la temperatura de forma númerica.\")"
   ]
  },
  {
   "cell_type": "code",
   "execution_count": 20,
   "metadata": {},
   "outputs": [
    {
     "name": "stdout",
     "output_type": "stream",
     "text": [
      "14.5 grados Celsius son 58.1 grados Fahrenheit.\n"
     ]
    }
   ],
   "source": [
    "# prueba función eval\n",
    "try:\n",
    "    x=(input(\"Pon la temperatura en grados Celsius.\")) \n",
    "    x=x.replace(',','.')\n",
    "    x=float(x)\n",
    "    \n",
    "    a=eval(\"9/5*x+32\")\n",
    "\n",
    "    print(f'{x} grados Celsius son {a} grados Fahrenheit.')\n",
    "except ValueError:\n",
    "    print(\"Escribe la temperatura con números y usa (.) como separador para los decimales.\")"
   ]
  },
  {
   "cell_type": "markdown",
   "metadata": {},
   "source": [
    "- Exercici 3 Comptador de paraules d'un text.\n",
    "\n",
    "Escriu una funció que donat un text, mostri les vegades que apareix cada paraula."
   ]
  },
  {
   "cell_type": "code",
   "execution_count": null,
   "metadata": {},
   "outputs": [],
   "source": [
    "import pandas as pd \n",
    "\n",
    "# Leer el archivo de Excel\n",
    "archivo_excel = \"D:/Proton Drive/My files/Formación/Cibernarium/IT Academy/reskilling_data_analytics/Sprint 7/formulas temperatura.xlsx\"  # Reemplaza con la ruta a tu archivo\n",
    "df = pd.read_excel(archivo_excel)\n",
    "\n",
    "# Convertir a diccionario\n",
    "data_dict = df.to_dict(orient='records')\n",
    "\n",
    "# Imprimir el diccionario\n",
    "print(data_dict)\n"
   ]
  },
  {
   "cell_type": "code",
   "execution_count": null,
   "metadata": {},
   "outputs": [
    {
     "name": "stdout",
     "output_type": "stream",
     "text": [
      "La palabra: hola aparece: 3 veces.\n",
      "La palabra: como aparece: 1 veces.\n",
      "La palabra: estas aparece: 1 veces.\n",
      "La palabra: adiós aparece: 1 veces.\n",
      "La palabra: amigo aparece: 5 veces.\n",
      "La palabra: amiga aparece: 1 veces.\n",
      "El texto tiene un total de: 12 palabras.\n"
     ]
    }
   ],
   "source": [
    "# Introducción del texto:\n",
    "texto=str(input(\"Introduce tu texto aquí:\")) \n",
    "\n",
    "# Convertir texto en una lista:\n",
    "lista_texto=texto.split(sep=None, maxsplit=-1)\n",
    "\n",
    "# Contar tamaño del texto:\n",
    "tamaño_texto=len(lista_texto)\n",
    "\n",
    "# Crear diccionario vacio para contar palabras repetidas:\n",
    "contar_palabras={}\n",
    "\n",
    "# Bucle para introducir palabras en el diccionario vacio:\n",
    "for palabra in lista_texto:\n",
    "    if palabra in contar_palabras:\n",
    "        contar_palabras[palabra] +=1\n",
    "    else:\n",
    "        contar_palabras[palabra]=1\n",
    "\n",
    "# Bucle para contar palabras y palabras repetidas:\n",
    "for palabra, conteo in contar_palabras.items():\n",
    "    print(f'La palabra: {palabra} aparece: {conteo} veces.')\n",
    "\n",
    "print(f'El texto tiene un total de: {tamaño_texto} palabras.')"
   ]
  },
  {
   "cell_type": "code",
   "execution_count": null,
   "metadata": {},
   "outputs": [
    {
     "name": "stdout",
     "output_type": "stream",
     "text": [
      "En el texto la palabra:casa aparece 4 veces\n",
      "En el texto la palabra:novia aparece 1 veces\n",
      "En el texto la palabra:amigo aparece 2 veces\n"
     ]
    }
   ],
   "source": [
    "# Importar paquete para contar palabras\n",
    "from collections import Counter\n",
    "\n",
    "# Crear función para contar palabras\n",
    "def contar_palabras(texto):\n",
    "    # Dividir el texto en elementos de una lista:\n",
    "    texto=texto.split() \n",
    "\n",
    "    # Crear variable con la función contar:\n",
    "    contar_palabras =  Counter(texto)\n",
    "\n",
    "    # Bucle para contar palabras y palabras repetidas: \n",
    "    for palabra, contar in contar_palabras.items():\n",
    "        print(f'En el texto la palabra:{palabra} aparece {contar} veces')\n",
    "\n",
    "# Introduce el texto:\n",
    "texto=input('Introduce tu texto:')\n",
    "\n",
    "# Ejecutar la función\n",
    "contar_palabras(texto)"
   ]
  },
  {
   "cell_type": "markdown",
   "metadata": {},
   "source": [
    "- Exercici 4 Diccionari invers. Resulta que el client té una enquesta molt antiga que s'emmagatzema en un diccionari i els resultats els necessita al revés, és a dir, intercanviats les claus i els valors. Els valors i claus en el diccionari original són únics; si aquest no és el cas, la funció hauria d'imprimir un missatge d'advertiment."
   ]
  },
  {
   "cell_type": "code",
   "execution_count": null,
   "metadata": {},
   "outputs": [
    {
     "name": "stdout",
     "output_type": "stream",
     "text": [
      "Se han perdido datos\n",
      "{1: 'a', 2: 'b'}\n"
     ]
    }
   ],
   "source": [
    "# Diccionarios:\n",
    "reverse_dictionary={'a':1,'b':2,'c':2}\n",
    "reverse_dictionary1={}\n",
    "\n",
    "try:\n",
    "    # Bucle para recorrer todos los items del diccionario:\n",
    "    for x,y in reverse_dictionary.items():\n",
    "\n",
    "        # Condicion que examina los datos de uno y otro diccionario:\n",
    "        if y in reverse_dictionary1: #si y ya se esta usando y no esta en el otro diccionario provocará una perdida de datos y por eso salta el error\n",
    "            raise ValueError(\"Se han perdido datos\")\n",
    "\n",
    "        # Invertir datos del diccionario:\n",
    "        reverse_dictionary1[y]=x\n",
    "    print(reverse_dictionary1)\n",
    "except ValueError as e:\n",
    "    print(e)\n",
    "    \n",
    "# Imprimir diccionario:\n",
    "print(reverse_dictionary1)"
   ]
  },
  {
   "cell_type": "code",
   "execution_count": null,
   "metadata": {},
   "outputs": [
    {
     "name": "stdout",
     "output_type": "stream",
     "text": [
      "Se han perdido datos\n",
      "{1: 'a', 2: 'c'}\n"
     ]
    }
   ],
   "source": [
    "reverse_dictionary={'a':1,'b':2,'c':2}\n",
    "\n",
    "# Invertir diccionario con función nativa de python:\n",
    "diccionario= dict(zip(reverse_dictionary.values(), reverse_dictionary.keys()))\n",
    "\n",
    "# Generar aviso de perdida de datos:\n",
    "try:\n",
    "    if len(reverse_dictionary) != len(diccionario):\n",
    "        raise ValueError(\"Se han perdido datos\")\n",
    "except ValueError as e:\n",
    "    print(e)\n",
    "    \n",
    "# Imprimir diccionario nuevo:\n",
    "print( diccionario)"
   ]
  },
  {
   "cell_type": "markdown",
   "metadata": {},
   "source": [
    "# Nivel 2"
   ]
  },
  {
   "cell_type": "markdown",
   "metadata": {},
   "source": [
    "- Exercici 1 Diccionari invers amb duplicats. Continuant amb l'exercici 4 del nivell 1: al client es va oblidar de comentar un detall i resulta que els valors en el diccionari original poden duplicar-se i més, per la qual cosa les claus intercanviades poden tenir duplicats. En aquest cas, en l'exercici anterior imprimies un missatge d'advertiment, ara, els valors del diccionari resultant hauran d'emmagatzemar-se com una llista. Tingues en compte que si és un valor únic no ha de ser una llista."
   ]
  },
  {
   "cell_type": "code",
   "execution_count": 6,
   "metadata": {},
   "outputs": [
    {
     "name": "stdout",
     "output_type": "stream",
     "text": [
      "{'apple': 'x', 'banana': ['y', 'z']}\n"
     ]
    }
   ],
   "source": [
    "reverse_dictionary_plus= {'x':'apple','y':'banana','z':'banana'}\n",
    "diccionario_plus={}\n",
    "lista_plus=[]\n",
    "\n",
    "for key, value in reverse_dictionary_plus.items():\n",
    "    # Condicion que examina los datos de uno y otro diccionario:\n",
    "    if value in diccionario_plus:\n",
    "        if value not in lista_plus: \n",
    "                lista_plus.append(value)\n",
    "        if not isinstance(diccionario_plus[value], list):\n",
    "            diccionario_plus[value]=[diccionario_plus[value],key]\n",
    "        else:\n",
    "                diccionario_plus[value].append(key) # Invertir datos del diccionario:\n",
    "    else:\n",
    "        diccionario_plus[value]=key\n",
    "    \n",
    "print(diccionario_plus)\n"
   ]
  },
  {
   "cell_type": "markdown",
   "metadata": {},
   "source": [
    "- Exercici 2 Conversió de tipus de dades. El client rep una llista de dades i necessita generar dues llistes, la primera on estaran tots els elements que es van poder convertir en flotants i l'altra on estan els elements que no es van poder convertir. Exemple de la llista que rep el client: [ '1.3', 'one' , '1e10' , 'seven', '3-1/2', ('2',1,1.4,'not-a-number'), [1,2,'3','3.4']]"
   ]
  },
  {
   "cell_type": "code",
   "execution_count": 25,
   "metadata": {},
   "outputs": [
    {
     "name": "stdout",
     "output_type": "stream",
     "text": [
      "Elementos convertibles a float: [1.3, 10000000000.0, 2.0, 1.0, 1.4, 1.0, 2.0, 3.0, 3.4]\n",
      "Elementos no convertibles a float: ['one', 'seven', '3-1/2', 'not a number']\n"
     ]
    }
   ],
   "source": [
    "\n",
    "def separar_datos(conversion):\n",
    "    convertibles=[]\n",
    "    no_convertibles=[]    \n",
    "    \n",
    "    for elemento in conversion:\n",
    "        # si el elemento es una tupla o una lista lo operamos internamente \n",
    "        if isinstance(elemento,(list,tuple)):\n",
    "            for subelemento in elemento:\n",
    "                try:\n",
    "                    convertibles.append(float(subelemento))\n",
    "                except (ValueError, TypeError):\n",
    "                    no_convertibles.append(subelemento)\n",
    "        else:\n",
    "            try:\n",
    "                convertibles.append(float(elemento))\n",
    "            except (ValueError, TypeError):\n",
    "                no_convertibles.append(elemento)\n",
    "    return convertibles, no_convertibles\n",
    "\n",
    "conversion=['1.3','one','1e10','seven','3-1/2',('2',1,1.4,'not a number'),[1,2,'3','3.4']]\n",
    "convertibles, no_convertibles = separar_datos(conversion)\n",
    "\n",
    "print(\"Elementos convertibles a float:\", convertibles)\n",
    "print(\"Elementos no convertibles a float:\", no_convertibles)"
   ]
  },
  {
   "cell_type": "markdown",
   "metadata": {},
   "source": [
    "# Nivel 3"
   ]
  },
  {
   "cell_type": "markdown",
   "metadata": {},
   "source": [
    "Exercici 1 Comptador i endreçador de paraules d'un text.\n",
    "\n",
    "El client va quedar content amb el comptador de paraules, però ara vol llegir arxius TXT i que calculi la freqüència de cada paraula ordenades dins de les entrades habituals del diccionari segons la lletra amb la qual comencen, és a dir, les claus han d'anar de la A a la Z i dins de la A hem d'anar de la A la Z. Per exemple, per a l'arxiu \"tu_me_quieres_blanca.txt\" la sortida esperada seria:"
   ]
  },
  {
   "cell_type": "code",
   "execution_count": 6,
   "metadata": {},
   "outputs": [
    {
     "name": "stdout",
     "output_type": "stream",
     "text": [
      "TÃº me quieres alba,\n",
      "me quieres de espumas,\n",
      "me quieres de nÃ¡car.\n",
      "Que sea azucena\n",
      "Sobre todas, casta.\n",
      "De perfume tenue.\n",
      "Corola cerrada .\n",
      "\n",
      "Ni un rayo de luna\n",
      "filtrado me haya.\n",
      "Ni una margarita\n",
      "se diga mi hermana.\n",
      "TÃº me quieres nÃ­vea,\n",
      "tÃº me quieres blanca,\n",
      "tÃº me quieres alba.\n",
      "\n",
      "TÃº que hubiste todas\n",
      "las copas a mano,\n",
      "de frutos y mieles\n",
      "los labios morados.\n",
      "TÃº que en el banquete\n",
      "cubierto de pÃ¡mpanos\n",
      "dejaste las carnes\n",
      "festejando a Baco.\n",
      "TÃº que en los jardines\n",
      "negros del EngaÃ±o\n",
      "vestido de rojo\n",
      "corriste al Estrago.\n",
      "\n",
      "TÃº que el esqueleto\n",
      "conservas intacto\n",
      "no sÃ© todavÃ­a\n",
      "por cuÃ¡les milagros,\n",
      "me pretendes blanca\n",
      "(Dios te lo perdone),\n",
      "me pretendes casta\n",
      "(Dios te lo perdone),\n",
      "Â¡me pretendes alba!\n",
      "\n",
      "Huye hacia los bosques,\n",
      "vete a la montaÃ±a;\n",
      "lÃ­mpiate la boca;\n",
      "vive en las cabaÃ±as;\n",
      "toca con las manos\n",
      "la tierra mojada;\n",
      "alimenta el cuerpo\n",
      "con raÃ­z amarga;\n",
      "bebe de las rocas;\n",
      "duerme sobre escarcha;\n",
      "renueva tejidos\n",
      "con salitre y agua:\n",
      "\n",
      "Habla con los pÃ¡jaros\n",
      "y lÃ©vate al alba.\n",
      "Y cuando las carnes\n",
      "te sean tornadas,\n",
      "y cuando hayas puesto\n",
      "en ellas el alma\n",
      "que por las alcobas\n",
      "se quedÃ³ enredada,\n",
      "entonces, buen hombre,\n",
      "pretÃ©ndeme blanca,\n",
      "pretÃ©ndeme nÃ­vea,\n",
      "pretÃ©ndeme casta.\n"
     ]
    }
   ],
   "source": [
    "texto = open(\"tu_me_quieres_blanca.txt\",\"r\")\n",
    "contenido=texto.read()\n",
    "print(contenido)"
   ]
  },
  {
   "cell_type": "code",
   "execution_count": 13,
   "metadata": {},
   "outputs": [
    {
     "name": "stdout",
     "output_type": "stream",
     "text": [
      "La palabra: \"TÃº\" aparece: 6 veces.\n",
      "La palabra: \"me\" aparece: 9 veces.\n",
      "La palabra: \"quieres\" aparece: 6 veces.\n",
      "La palabra: \"alba,\" aparece: 1 veces.\n",
      "La palabra: \"de\" aparece: 7 veces.\n",
      "La palabra: \"espumas,\" aparece: 1 veces.\n",
      "La palabra: \"nÃ¡car.\" aparece: 1 veces.\n",
      "La palabra: \"Que\" aparece: 1 veces.\n",
      "La palabra: \"sea\" aparece: 1 veces.\n",
      "La palabra: \"azucena\" aparece: 1 veces.\n",
      "La palabra: \"Sobre\" aparece: 1 veces.\n",
      "La palabra: \"todas,\" aparece: 1 veces.\n",
      "La palabra: \"casta.\" aparece: 2 veces.\n",
      "La palabra: \"De\" aparece: 1 veces.\n",
      "La palabra: \"perfume\" aparece: 1 veces.\n",
      "La palabra: \"tenue.\" aparece: 1 veces.\n",
      "La palabra: \"Corola\" aparece: 1 veces.\n",
      "La palabra: \"cerrada\" aparece: 1 veces.\n",
      "La palabra: \".\" aparece: 1 veces.\n",
      "La palabra: \"Ni\" aparece: 2 veces.\n",
      "La palabra: \"un\" aparece: 1 veces.\n",
      "La palabra: \"rayo\" aparece: 1 veces.\n",
      "La palabra: \"luna\" aparece: 1 veces.\n",
      "La palabra: \"filtrado\" aparece: 1 veces.\n",
      "La palabra: \"haya.\" aparece: 1 veces.\n",
      "La palabra: \"una\" aparece: 1 veces.\n",
      "La palabra: \"margarita\" aparece: 1 veces.\n",
      "La palabra: \"se\" aparece: 2 veces.\n",
      "La palabra: \"diga\" aparece: 1 veces.\n",
      "La palabra: \"mi\" aparece: 1 veces.\n",
      "La palabra: \"hermana.\" aparece: 1 veces.\n",
      "La palabra: \"nÃ­vea,\" aparece: 2 veces.\n",
      "La palabra: \"tÃº\" aparece: 2 veces.\n",
      "La palabra: \"blanca,\" aparece: 2 veces.\n",
      "La palabra: \"alba.\" aparece: 2 veces.\n",
      "La palabra: \"que\" aparece: 5 veces.\n",
      "La palabra: \"hubiste\" aparece: 1 veces.\n",
      "La palabra: \"todas\" aparece: 1 veces.\n",
      "La palabra: \"las\" aparece: 7 veces.\n",
      "La palabra: \"copas\" aparece: 1 veces.\n",
      "La palabra: \"a\" aparece: 3 veces.\n",
      "La palabra: \"mano,\" aparece: 1 veces.\n",
      "La palabra: \"frutos\" aparece: 1 veces.\n",
      "La palabra: \"y\" aparece: 4 veces.\n",
      "La palabra: \"mieles\" aparece: 1 veces.\n",
      "La palabra: \"los\" aparece: 4 veces.\n",
      "La palabra: \"labios\" aparece: 1 veces.\n",
      "La palabra: \"morados.\" aparece: 1 veces.\n",
      "La palabra: \"en\" aparece: 4 veces.\n",
      "La palabra: \"el\" aparece: 4 veces.\n",
      "La palabra: \"banquete\" aparece: 1 veces.\n",
      "La palabra: \"cubierto\" aparece: 1 veces.\n",
      "La palabra: \"pÃ¡mpanos\" aparece: 1 veces.\n",
      "La palabra: \"dejaste\" aparece: 1 veces.\n",
      "La palabra: \"carnes\" aparece: 2 veces.\n",
      "La palabra: \"festejando\" aparece: 1 veces.\n",
      "La palabra: \"Baco.\" aparece: 1 veces.\n",
      "La palabra: \"jardines\" aparece: 1 veces.\n",
      "La palabra: \"negros\" aparece: 1 veces.\n",
      "La palabra: \"del\" aparece: 1 veces.\n",
      "La palabra: \"EngaÃ±o\" aparece: 1 veces.\n",
      "La palabra: \"vestido\" aparece: 1 veces.\n",
      "La palabra: \"rojo\" aparece: 1 veces.\n",
      "La palabra: \"corriste\" aparece: 1 veces.\n",
      "La palabra: \"al\" aparece: 2 veces.\n",
      "La palabra: \"Estrago.\" aparece: 1 veces.\n",
      "La palabra: \"esqueleto\" aparece: 1 veces.\n",
      "La palabra: \"conservas\" aparece: 1 veces.\n",
      "La palabra: \"intacto\" aparece: 1 veces.\n",
      "La palabra: \"no\" aparece: 1 veces.\n",
      "La palabra: \"sÃ©\" aparece: 1 veces.\n",
      "La palabra: \"todavÃ­a\" aparece: 1 veces.\n",
      "La palabra: \"por\" aparece: 2 veces.\n",
      "La palabra: \"cuÃ¡les\" aparece: 1 veces.\n",
      "La palabra: \"milagros,\" aparece: 1 veces.\n",
      "La palabra: \"pretendes\" aparece: 3 veces.\n",
      "La palabra: \"blanca\" aparece: 1 veces.\n",
      "La palabra: \"(Dios\" aparece: 2 veces.\n",
      "La palabra: \"te\" aparece: 3 veces.\n",
      "La palabra: \"lo\" aparece: 2 veces.\n",
      "La palabra: \"perdone),\" aparece: 2 veces.\n",
      "La palabra: \"casta\" aparece: 1 veces.\n",
      "La palabra: \"Â¡me\" aparece: 1 veces.\n",
      "La palabra: \"alba!\" aparece: 1 veces.\n",
      "La palabra: \"Huye\" aparece: 1 veces.\n",
      "La palabra: \"hacia\" aparece: 1 veces.\n",
      "La palabra: \"bosques,\" aparece: 1 veces.\n",
      "La palabra: \"vete\" aparece: 1 veces.\n",
      "La palabra: \"la\" aparece: 3 veces.\n",
      "La palabra: \"montaÃ±a;\" aparece: 1 veces.\n",
      "La palabra: \"lÃ­mpiate\" aparece: 1 veces.\n",
      "La palabra: \"boca;\" aparece: 1 veces.\n",
      "La palabra: \"vive\" aparece: 1 veces.\n",
      "La palabra: \"cabaÃ±as;\" aparece: 1 veces.\n",
      "La palabra: \"toca\" aparece: 1 veces.\n",
      "La palabra: \"con\" aparece: 4 veces.\n",
      "La palabra: \"manos\" aparece: 1 veces.\n",
      "La palabra: \"tierra\" aparece: 1 veces.\n",
      "La palabra: \"mojada;\" aparece: 1 veces.\n",
      "La palabra: \"alimenta\" aparece: 1 veces.\n",
      "La palabra: \"cuerpo\" aparece: 1 veces.\n",
      "La palabra: \"raÃ­z\" aparece: 1 veces.\n",
      "La palabra: \"amarga;\" aparece: 1 veces.\n",
      "La palabra: \"bebe\" aparece: 1 veces.\n",
      "La palabra: \"rocas;\" aparece: 1 veces.\n",
      "La palabra: \"duerme\" aparece: 1 veces.\n",
      "La palabra: \"sobre\" aparece: 1 veces.\n",
      "La palabra: \"escarcha;\" aparece: 1 veces.\n",
      "La palabra: \"renueva\" aparece: 1 veces.\n",
      "La palabra: \"tejidos\" aparece: 1 veces.\n",
      "La palabra: \"salitre\" aparece: 1 veces.\n",
      "La palabra: \"agua:\" aparece: 1 veces.\n",
      "La palabra: \"Habla\" aparece: 1 veces.\n",
      "La palabra: \"pÃ¡jaros\" aparece: 1 veces.\n",
      "La palabra: \"lÃ©vate\" aparece: 1 veces.\n",
      "La palabra: \"Y\" aparece: 1 veces.\n",
      "La palabra: \"cuando\" aparece: 2 veces.\n",
      "La palabra: \"sean\" aparece: 1 veces.\n",
      "La palabra: \"tornadas,\" aparece: 1 veces.\n",
      "La palabra: \"hayas\" aparece: 1 veces.\n",
      "La palabra: \"puesto\" aparece: 1 veces.\n",
      "La palabra: \"ellas\" aparece: 1 veces.\n",
      "La palabra: \"alma\" aparece: 1 veces.\n",
      "La palabra: \"alcobas\" aparece: 1 veces.\n",
      "La palabra: \"quedÃ³\" aparece: 1 veces.\n",
      "La palabra: \"enredada,\" aparece: 1 veces.\n",
      "La palabra: \"entonces,\" aparece: 1 veces.\n",
      "La palabra: \"buen\" aparece: 1 veces.\n",
      "La palabra: \"hombre,\" aparece: 1 veces.\n",
      "La palabra: \"pretÃ©ndeme\" aparece: 3 veces.\n",
      "El texto tiene un total de: 203 palabras.\n"
     ]
    }
   ],
   "source": [
    "contenido\n",
    "\n",
    "# Convertir texto en una lista:\n",
    "lista_texto=contenido.split(sep=None, maxsplit=-1)\n",
    "\n",
    "# Contar tamaño del texto:\n",
    "tamaño_texto=len(lista_texto)\n",
    "\n",
    "# Crear diccionario vacio para contar palabras repetidas:\n",
    "contar_palabras={}\n",
    "\n",
    "# Bucle para introducir palabras en el diccionario vacio:\n",
    "for palabra in lista_texto:\n",
    "    if palabra in contar_palabras:\n",
    "        contar_palabras[palabra] +=1\n",
    "    else:\n",
    "        contar_palabras[palabra]=1\n",
    "\n",
    "# Bucle para contar palabras y palabras repetidas:\n",
    "for palabra, conteo in contar_palabras.items():\n",
    "    print(f'La palabra: \"{palabra}\" aparece: {conteo} veces.')\n",
    "\n",
    "print(f'El texto tiene un total de: {tamaño_texto} palabras.')"
   ]
  },
  {
   "cell_type": "code",
   "execution_count": 14,
   "metadata": {},
   "outputs": [
    {
     "name": "stdout",
     "output_type": "stream",
     "text": [
      "{'a': None, 'b': None, 'c': None, 'd': None, 'e': None, 'f': None, 'g': None, 'h': None, 'i': None, 'j': None, 'k': None, 'l': None, 'm': None, 'n': None, 'o': None, 'p': None, 'q': None, 'r': None, 's': None, 't': None, 'u': None, 'v': None, 'w': None, 'x': None, 'y': None, 'z': None}\n"
     ]
    }
   ],
   "source": [
    "import string\n",
    "\n",
    "# Generar las claves del diccionario de 'a' a 'z'\n",
    "letras = string.ascii_lowercase\n",
    "\n",
    "# Crear un diccionario con las claves y asignar valores, por ejemplo, vacíos\n",
    "diccionario = {letra: None for letra in letras}\n",
    "\n",
    "print(diccionario)\n"
   ]
  }
 ],
 "metadata": {
  "kernelspec": {
   "display_name": "Python 3",
   "language": "python",
   "name": "python3"
  },
  "language_info": {
   "codemirror_mode": {
    "name": "ipython",
    "version": 3
   },
   "file_extension": ".py",
   "mimetype": "text/x-python",
   "name": "python",
   "nbconvert_exporter": "python",
   "pygments_lexer": "ipython3",
   "version": "3.12.6"
  }
 },
 "nbformat": 4,
 "nbformat_minor": 2
}
