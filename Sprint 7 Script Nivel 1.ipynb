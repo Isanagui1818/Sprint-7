{
 "cells": [
  {
   "cell_type": "markdown",
   "metadata": {},
   "source": [
    "# Nivel 1"
   ]
  },
  {
   "cell_type": "markdown",
   "metadata": {},
   "source": [
    "- Exercici 1 Calculadora de l'índex de massa corporal\n",
    "\n",
    "    Escriu una funció que calculi l'IMC ingressat per l'usuari/ària, és a dir, qui ho executi haurà d'ingressar aquestes dades. Pots obtenir més informació del seu càlcul en:\n",
    "\n",
    "    -> Índice de masa corporal IMC que es y como se calcula.\n",
    "    La funció ha de classificar el resultat en les seves respectives categories"
   ]
  },
  {
   "cell_type": "code",
   "execution_count": 2,
   "metadata": {},
   "outputs": [
    {
     "name": "stdout",
     "output_type": "stream",
     "text": [
      "Tu IMC está en: 18.75. Peso normal. Pero recuerda que este índice tiene algunas limitaciones.\n"
     ]
    }
   ],
   "source": [
    "def calculo_IMC():\n",
    "    try:\n",
    "        # Introducción de datos:\n",
    "        altura=input(\"Introduce tu altura en centímetros:\")\n",
    "        altura=altura.replace(',','.')\n",
    "        \n",
    "        # Conversion de datos a float:\n",
    "        try:\n",
    "            altura=float(altura)\n",
    "        except ValueError:\n",
    "            raise ValueError(\"Introduce valores númericos.\")\n",
    "\n",
    "        peso=input(\"Introduce tu peso en kg:\")\n",
    "        peso=peso.replace(',','.')\n",
    "        \n",
    "        # Conversion de datos a float:\n",
    "        try:       \n",
    "            peso=float(peso)\n",
    "        except ValueError:\n",
    "            raise ValueError(\"Introduce valores númericos.\")\n",
    "\n",
    "    # Verificación de datos plausibles:\n",
    "        # Valor de control por si introducen los datos en metros:\n",
    "        if altura < 3:\n",
    "            raise ValueError(\"La altura es demasiado baja. Por favor, introduce la altura real en cm.\")\n",
    "        \n",
    "        # Valores de control, de record guiness: \n",
    "        if altura < 62.8:\n",
    "            raise ValueError(\"La altura es demasiado baja. Por favor, introduce la altura real en cm.\")\n",
    "        if altura > 280:\n",
    "            raise ValueError(\"La altura es demasiado alta. Por favor, introduce la altura real en cm.\")\n",
    "\n",
    "        # Valores de control, de record guiness: \n",
    "        if peso < 5.4:\n",
    "            raise ValueError(\"El peso es demasiado bajo. Por favor, introduce el peso real en kg.\")\n",
    "        if peso > 640:\n",
    "            raise ValueError(\"El peso es demasiado alto. Por favor, introduce el peso real en kg.\")\n",
    "    \n",
    "    except ValueError as e:\n",
    "        print(e)\n",
    "        return\n",
    "        \n",
    "    # Cálculo del IMC:    \n",
    "    IMC = peso/(altura/100)**2\n",
    "\n",
    "   # Rangos del IMC:\n",
    "    if IMC <= 18.5:\n",
    "        a=(\"Bajo peso\")\n",
    "    elif IMC > 18.5 and IMC <= 24.9:\n",
    "        a=(\"Peso normal\")\n",
    "    elif IMC >= 25 and IMC <= 29.9:\n",
    "        a=(\"Sobre peso\")\n",
    "    else:\n",
    "        a=(\"Obesidad\")\n",
    "\n",
    "    print(f'Tu IMC está en: {round(IMC,2)}. {a}. Pero recuerda que este índice tiene algunas limitaciones.')\n",
    "\n",
    "# Ejecutar función\n",
    "calculo_IMC() "
   ]
  },
  {
   "cell_type": "markdown",
   "metadata": {},
   "source": [
    "- Exercici 2 Convertidor de temperatures.\n",
    "\n",
    "Existeixen diverses unitats de temperatura utilitzades en diferents contextos i regions. Les més comunes són Celsius (°C), Fahrenheit (°F) i Kelvin (K). També existeixen altres unitats com Rankine (°Ra) i Réaumur (°Re). Selecciona almenys 2 conversors, de tal manera que en introduir una temperatura retorni, com a mínim, dues conversions.\n",
    "\n"
   ]
  },
  {
   "cell_type": "code",
   "execution_count": null,
   "metadata": {},
   "outputs": [
    {
     "name": "stdout",
     "output_type": "stream",
     "text": [
      "1.0 grados Celsius son 33.8 grados Fahrenheit y 274.15 grados Kelvin.\n"
     ]
    }
   ],
   "source": [
    "try:    \n",
    "    # Introducción de datos:\n",
    "    c=(input(\"Introduce la temperatura en grados Celsius.\")) \n",
    "    c=c.replace(',','.')\n",
    "    \n",
    "    # Conversión a float:\n",
    "    c=float(c)\n",
    "    \n",
    "    # Conversión de medida:\n",
    "    f=9/5*c+32\n",
    "    k=c+273.15\n",
    "\n",
    "    print(f'{c} grados Celsius son {f} grados Fahrenheit y {round(k,2)} grados Kelvin.')   \n",
    "except ValueError:\n",
    "    print(\"Escribe la temperatura de forma númerica.\")"
   ]
  },
  {
   "cell_type": "markdown",
   "metadata": {},
   "source": [
    "- Exercici 3 Comptador de paraules d'un text.\n",
    "\n",
    "Escriu una funció que donat un text, mostri les vegades que apareix cada paraula."
   ]
  },
  {
   "cell_type": "code",
   "execution_count": null,
   "metadata": {},
   "outputs": [
    {
     "name": "stdout",
     "output_type": "stream",
     "text": [
      "La palabra: hola aparece: 3 veces.\n",
      "La palabra: como aparece: 1 veces.\n",
      "La palabra: estas aparece: 1 veces.\n",
      "La palabra: adiós aparece: 1 veces.\n",
      "La palabra: amigo aparece: 5 veces.\n",
      "La palabra: amiga aparece: 1 veces.\n",
      "El texto tiene un total de: 12 palabras.\n"
     ]
    }
   ],
   "source": [
    "# Introducción del texto:\n",
    "texto=str(input(\"Introduce tu texto aquí:\")) \n",
    "\n",
    "# Convertir texto en una lista:\n",
    "lista_texto=texto.split(sep=None, maxsplit=-1)\n",
    "\n",
    "# Contar tamaño del texto:\n",
    "tamaño_texto=len(lista_texto)\n",
    "\n",
    "# Crear diccionario vacio para contar palabras repetidas:\n",
    "contar_palabras={}\n",
    "\n",
    "# Bucle para introducir palabras en el diccionario vacio:\n",
    "for palabra in lista_texto:\n",
    "    if palabra in contar_palabras:\n",
    "        contar_palabras[palabra] +=1\n",
    "    else:\n",
    "        contar_palabras[palabra]=1\n",
    "\n",
    "# Bucle para contar palabras y palabras repetidas:\n",
    "for palabra, conteo in contar_palabras.items():\n",
    "    print(f'La palabra: {palabra} aparece: {conteo} veces.')\n",
    "\n",
    "print(f'El texto tiene un total de: {tamaño_texto} palabras.')"
   ]
  },
  {
   "cell_type": "code",
   "execution_count": null,
   "metadata": {},
   "outputs": [
    {
     "name": "stdout",
     "output_type": "stream",
     "text": [
      "En el texto la palabra:casa aparece 4 veces\n",
      "En el texto la palabra:novia aparece 1 veces\n",
      "En el texto la palabra:amigo aparece 2 veces\n"
     ]
    }
   ],
   "source": [
    "# Importar paquete para contar palabras\n",
    "from collections import Counter\n",
    "\n",
    "# Crear función para contar palabras\n",
    "def contar_palabras(texto):\n",
    "    # Dividir el texto en elementos de una lista:\n",
    "    texto=texto.split() \n",
    "\n",
    "    # Crear variable con la función contar:\n",
    "    contar_palabras =  Counter(texto)\n",
    "\n",
    "    # Bucle para contar palabras y palabras repetidas: \n",
    "    for palabra, contar in contar_palabras.items():\n",
    "        print(f'En el texto la palabra:{palabra} aparece {contar} veces')\n",
    "\n",
    "# Introduce el texto:\n",
    "texto=input('Introduce tu texto:')\n",
    "\n",
    "# Ejecutar la función\n",
    "contar_palabras(texto)"
   ]
  },
  {
   "cell_type": "markdown",
   "metadata": {},
   "source": [
    "- Exercici 4 Diccionari invers. Resulta que el client té una enquesta molt antiga que s'emmagatzema en un diccionari i els resultats els necessita al revés, és a dir, intercanviats les claus i els valors. Els valors i claus en el diccionari original són únics; si aquest no és el cas, la funció hauria d'imprimir un missatge d'advertiment."
   ]
  },
  {
   "cell_type": "code",
   "execution_count": 1,
   "metadata": {},
   "outputs": [
    {
     "name": "stdout",
     "output_type": "stream",
     "text": [
      "{1: 'a', 2: 'b', 3: 'c'}\n"
     ]
    }
   ],
   "source": [
    "# Diccionarios:\n",
    "reverse_dictionary = {'a': 1, 'b': 2, 'c': 3}\n",
    "reverse_dictionary1 = {}\n",
    "\n",
    "# Bucle para recorrer todos los items del diccionario:\n",
    "for x,y in reverse_dictionary.items():\n",
    "  \n",
    "    # Invertir datos del diccionario:\n",
    "    reverse_dictionary1[y]=x\n",
    "\n",
    "# Imprimir diccionario:\n",
    "print(reverse_dictionary1)"
   ]
  },
  {
   "cell_type": "code",
   "execution_count": 2,
   "metadata": {},
   "outputs": [
    {
     "name": "stdout",
     "output_type": "stream",
     "text": [
      "{1: 'a', 2: 'b', 3: 'c'}\n"
     ]
    }
   ],
   "source": [
    "reverse_dictionary={'a':1,'b':2,'c':3}\n",
    "\n",
    "# Invertir diccionario con función nativa de python:\n",
    "diccionario= dict(zip(reverse_dictionary.values(), reverse_dictionary.keys()))\n",
    "    \n",
    "# Imprimir diccionario nuevo:\n",
    "print(diccionario)"
   ]
  },
  {
   "cell_type": "code",
   "execution_count": null,
   "metadata": {},
   "outputs": [
    {
     "name": "stdout",
     "output_type": "stream",
     "text": [
      "Error multiple keys for one value\n"
     ]
    }
   ],
   "source": [
    "# Diccionarios:\n",
    "reverse_dictionary={'x':'apple','y':'banana','z':'banana'}\n",
    "reverse_dictionary1={}\n",
    "\n",
    "try:\n",
    "    # Bucle para recorrer todos los items del diccionario:\n",
    "    for x,y in reverse_dictionary.items():\n",
    "\n",
    "        # Condicion que examina los datos de uno y otro diccionario:\n",
    "        if y in reverse_dictionary1: #si y ya se esta usando y no esta en el otro diccionario provocará una perdida de datos y por eso salta el error\n",
    "            raise ValueError(\"Error multiple keys for one value\")\n",
    "\n",
    "        # Invertir datos del diccionario:\n",
    "        reverse_dictionary1[y]=x\n",
    "    print(reverse_dictionary1)\n",
    "except ValueError as e:\n",
    "    print(e)\n",
    "    "
   ]
  }
 ],
 "metadata": {
  "kernelspec": {
   "display_name": ".venv",
   "language": "python",
   "name": "python3"
  },
  "language_info": {
   "codemirror_mode": {
    "name": "ipython",
    "version": 3
   },
   "file_extension": ".py",
   "mimetype": "text/x-python",
   "name": "python",
   "nbconvert_exporter": "python",
   "pygments_lexer": "ipython3",
   "version": "3.12.6"
  }
 },
 "nbformat": 4,
 "nbformat_minor": 2
}
